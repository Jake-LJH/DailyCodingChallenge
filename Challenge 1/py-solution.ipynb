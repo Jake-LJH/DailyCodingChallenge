{
 "cells": [
  {
   "cell_type": "markdown",
   "metadata": {},
   "source": [
    "Given a list of numbers and a number k, return whether any two numbers from the list add up to k.\n",
    "\n",
    "For example, given <code>[10, 15, 3, 7]</code> and <code>k</code> of 17, return true since 10 + 7 is 17."
   ]
  },
  {
   "cell_type": "code",
   "execution_count": 3,
   "metadata": {},
   "outputs": [
    {
     "name": "stdout",
     "output_type": "stream",
     "text": [
      "True\n"
     ]
    }
   ],
   "source": [
    "def FindPairs(arr, k):\n",
    "    for i in range(0, len(arr)):\n",
    "        if k - arr[i] in arr:\n",
    "            return True\n",
    "    return False        \n",
    "A = [1, 4, 45, 6, 10, 8]\n",
    "n = 5\n",
    "print(FindPairs(A, n))"
   ]
  },
  {
   "cell_type": "code",
   "execution_count": 2,
   "metadata": {},
   "outputs": [
    {
     "name": "stdout",
     "output_type": "stream",
     "text": [
      "False\n"
     ]
    }
   ],
   "source": [
    "def findpair(list1, k):\n",
    "    for i in range(0, len(list1)):\n",
    "        for j in range(0, len(list1)):\n",
    "            if k == list1[i] + list1[j]:\n",
    "                return True    \n",
    "    return False       \n",
    "nums = [10, 5, 6, 7, 3]\n",
    "k = 100\n",
    "print(findpair(nums, k))"
   ]
  }
 ],
 "metadata": {
  "interpreter": {
   "hash": "b0247b613bff716be1706fc77d53b1d0c53907d6bc6573f089f3a7461198f1df"
  },
  "kernelspec": {
   "display_name": "Python 3.10.4 64-bit",
   "language": "python",
   "name": "python3"
  },
  "language_info": {
   "codemirror_mode": {
    "name": "ipython",
    "version": 3
   },
   "file_extension": ".py",
   "mimetype": "text/x-python",
   "name": "python",
   "nbconvert_exporter": "python",
   "pygments_lexer": "ipython3",
   "version": "3.10.4"
  },
  "orig_nbformat": 4
 },
 "nbformat": 4,
 "nbformat_minor": 2
}
