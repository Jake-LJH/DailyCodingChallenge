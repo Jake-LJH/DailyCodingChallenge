{
 "cells": [
  {
   "cell_type": "markdown",
   "metadata": {},
   "source": [
    "Given a list of numbers and a number k, return whether any two numbers from the list add up to k.\n",
    "\n",
    "For example, given [10, 15, 3, 7] and k of 17, return true since 10 + 7 is 17."
   ]
  },
  {
   "cell_type": "code",
   "execution_count": null,
   "metadata": {},
   "outputs": [],
   "source": [
    "numList = [10,15,3,7]\n",
    "\n",
    "def validateK(numList,k):\n",
    "    for i in range(len(numList)):\n",
    "        print(len(numList))\n",
    "        if i != len(numList):\n",
    "          if numList[i] + numList[i+1] == k:    \n",
    "              print(\"True\") \n",
    "          else:\n",
    "              print(\"False\")\n",
    "          i + 1\n",
    "\n",
    "validateK(numList,17)"
   ]
  }
 ],
 "metadata": {
  "language_info": {
   "name": "python"
  },
  "orig_nbformat": 4
 },
 "nbformat": 4,
 "nbformat_minor": 2
}
